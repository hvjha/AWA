{
  "nbformat": 4,
  "nbformat_minor": 0,
  "metadata": {
    "colab": {
      "provenance": [],
      "authorship_tag": "ABX9TyNHFyTNZNIUHr0Lnmg2PhkP",
      "include_colab_link": true
    },
    "kernelspec": {
      "name": "python3",
      "display_name": "Python 3"
    },
    "language_info": {
      "name": "python"
    }
  },
  "cells": [
    {
      "cell_type": "markdown",
      "metadata": {
        "id": "view-in-github",
        "colab_type": "text"
      },
      "source": [
        "<a href=\"https://colab.research.google.com/github/hvjha/AWA/blob/Statistics/stat_class_3.ipynb\" target=\"_parent\"><img src=\"https://colab.research.google.com/assets/colab-badge.svg\" alt=\"Open In Colab\"/></a>"
      ]
    },
    {
      "cell_type": "markdown",
      "source": [
        "#Example 1"
      ],
      "metadata": {
        "id": "CVVojP9ZAjHg"
      }
    },
    {
      "cell_type": "code",
      "execution_count": null,
      "metadata": {
        "id": "rASabf3_4oyi"
      },
      "outputs": [],
      "source": [
        "import pandas as pd #handling data\n",
        "import random #randomly pick cluster"
      ]
    },
    {
      "cell_type": "code",
      "source": [
        "data = {\n",
        "    'studentID': list(range(1,21)),\n",
        "    'class':['A','A','A','A','A','B','B','B','B','B','C','C','C','C','C','D','D','D','D','D']\n",
        "}\n",
        "df = pd.DataFrame(data)\n",
        "#print(df)"
      ],
      "metadata": {
        "id": "ecKw40gEA2I4"
      },
      "execution_count": 8,
      "outputs": []
    },
    {
      "cell_type": "code",
      "source": [
        "#cluster sampling\n",
        "#Unique classes\n",
        "classes = df['class'].unique().tolist()\n",
        "#print(classes)\n",
        "selected_clusters = random.sample(classes,2)\n",
        "print(selected_clusters)"
      ],
      "metadata": {
        "colab": {
          "base_uri": "https://localhost:8080/"
        },
        "id": "u0aisd0nClYl",
        "outputId": "ed6df565-86ea-40fe-adae-ae68e590a2b5"
      },
      "execution_count": 21,
      "outputs": [
        {
          "output_type": "stream",
          "name": "stdout",
          "text": [
            "['D', 'C']\n"
          ]
        }
      ]
    },
    {
      "cell_type": "code",
      "source": [
        "#Take all student from selected clusters\n",
        "selected_students = df[df['class'].isin(selected_clusters)]\n",
        "print(selected_students)"
      ],
      "metadata": {
        "colab": {
          "base_uri": "https://localhost:8080/"
        },
        "id": "U1hqEMWyC1Nj",
        "outputId": "7f53f327-e227-465e-acca-bf6a7b5a89ca"
      },
      "execution_count": 22,
      "outputs": [
        {
          "output_type": "stream",
          "name": "stdout",
          "text": [
            "    studentID class\n",
            "10         11     C\n",
            "11         12     C\n",
            "12         13     C\n",
            "13         14     C\n",
            "14         15     C\n",
            "15         16     D\n",
            "16         17     D\n",
            "17         18     D\n",
            "18         19     D\n",
            "19         20     D\n"
          ]
        }
      ]
    }
  ]
}