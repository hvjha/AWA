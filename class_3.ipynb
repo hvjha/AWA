{
 "cells": [
  {
   "cell_type": "code",
   "execution_count": 26,
   "id": "f3c0f365-7737-471d-b98d-92c9d0661524",
   "metadata": {},
   "outputs": [],
   "source": [
    "#DATA TYPE \n",
    "#NUMERIC --> Integer,Float,Complex Number\n",
    "#DICTIONARY\n",
    "#BOOLEAN --> True, False\n",
    "#SET\n",
    "#SEQUENCE TYPE --> String, List, Tuple"
   ]
  },
  {
   "cell_type": "code",
   "execution_count": null,
   "id": "229a8d4d-86af-47e6-8966-dccd7f3253ef",
   "metadata": {},
   "outputs": [],
   "source": [
    "num=10"
   ]
  },
  {
   "cell_type": "code",
   "execution_count": 2,
   "id": "75b36f67-bd51-4e22-a8c2-d76e145286c4",
   "metadata": {},
   "outputs": [
    {
     "data": {
      "text/plain": [
       "10"
      ]
     },
     "execution_count": 2,
     "metadata": {},
     "output_type": "execute_result"
    }
   ],
   "source": [
    "num"
   ]
  },
  {
   "cell_type": "code",
   "execution_count": 3,
   "id": "3a3a7276-254e-4901-b58f-46e08940bebc",
   "metadata": {},
   "outputs": [
    {
     "data": {
      "text/plain": [
       "int"
      ]
     },
     "execution_count": 3,
     "metadata": {},
     "output_type": "execute_result"
    }
   ],
   "source": [
    "type(num)"
   ]
  },
  {
   "cell_type": "code",
   "execution_count": 6,
   "id": "7fcb18bd-692c-4b96-b9bc-168d23cb69ea",
   "metadata": {},
   "outputs": [],
   "source": [
    "num1=10\n",
    "num2=20"
   ]
  },
  {
   "cell_type": "code",
   "execution_count": 7,
   "id": "d4f5c45b-df17-4c1a-9cd7-ef6588c2df46",
   "metadata": {},
   "outputs": [
    {
     "data": {
      "text/plain": [
       "30"
      ]
     },
     "execution_count": 7,
     "metadata": {},
     "output_type": "execute_result"
    }
   ],
   "source": [
    "num1+num2"
   ]
  },
  {
   "cell_type": "code",
   "execution_count": 8,
   "id": "1636ec51-759c-4c7b-a326-0569bb37390f",
   "metadata": {},
   "outputs": [],
   "source": [
    "num1,num2=10,10.5"
   ]
  },
  {
   "cell_type": "code",
   "execution_count": 9,
   "id": "97d55b98-645b-403a-89d7-fb81e2f4b3d9",
   "metadata": {},
   "outputs": [
    {
     "data": {
      "text/plain": [
       "20.5"
      ]
     },
     "execution_count": 9,
     "metadata": {},
     "output_type": "execute_result"
    }
   ],
   "source": [
    "num1+num2"
   ]
  },
  {
   "cell_type": "code",
   "execution_count": 10,
   "id": "4a5c6612-f011-4aec-b458-2c7803f68f47",
   "metadata": {},
   "outputs": [
    {
     "data": {
      "text/plain": [
       "float"
      ]
     },
     "execution_count": 10,
     "metadata": {},
     "output_type": "execute_result"
    }
   ],
   "source": [
    "type(num2)"
   ]
  },
  {
   "cell_type": "code",
   "execution_count": 11,
   "id": "31233096-8f64-4434-9fd6-ff025f2660e6",
   "metadata": {},
   "outputs": [],
   "source": [
    "a,b,c,d=10,'Harsh',10.5,True"
   ]
  },
  {
   "cell_type": "code",
   "execution_count": 12,
   "id": "a4d9bbaf-edcd-4f78-a195-b1b69866c9fd",
   "metadata": {},
   "outputs": [
    {
     "data": {
      "text/plain": [
       "(10, 'Harsh', 10.5, True)"
      ]
     },
     "execution_count": 12,
     "metadata": {},
     "output_type": "execute_result"
    }
   ],
   "source": [
    "a,b,c,d"
   ]
  },
  {
   "cell_type": "code",
   "execution_count": 13,
   "id": "3d57dc99-bdc4-4b1e-94c3-75a9f34ac3d0",
   "metadata": {},
   "outputs": [
    {
     "data": {
      "text/plain": [
       "bool"
      ]
     },
     "execution_count": 13,
     "metadata": {},
     "output_type": "execute_result"
    }
   ],
   "source": [
    "type(d)"
   ]
  },
  {
   "cell_type": "code",
   "execution_count": 15,
   "id": "36195268-c31a-468f-bd83-d3e7d419ac75",
   "metadata": {},
   "outputs": [],
   "source": [
    "#Number Data Type\n",
    "num1 =-10"
   ]
  },
  {
   "cell_type": "code",
   "execution_count": 16,
   "id": "e0cfe37f-4e8b-462d-baf2-96b6d8f6aa69",
   "metadata": {},
   "outputs": [
    {
     "data": {
      "text/plain": [
       "int"
      ]
     },
     "execution_count": 16,
     "metadata": {},
     "output_type": "execute_result"
    }
   ],
   "source": [
    "type(num1)"
   ]
  },
  {
   "cell_type": "code",
   "execution_count": 17,
   "id": "7e95cc98-d591-4b61-89bd-d2577b0fdf50",
   "metadata": {},
   "outputs": [],
   "source": [
    "num2 = 10.5"
   ]
  },
  {
   "cell_type": "code",
   "execution_count": 18,
   "id": "084d043a-a5f0-406b-86f1-d85f80607449",
   "metadata": {},
   "outputs": [
    {
     "data": {
      "text/plain": [
       "float"
      ]
     },
     "execution_count": 18,
     "metadata": {},
     "output_type": "execute_result"
    }
   ],
   "source": [
    "type(num2)"
   ]
  },
  {
   "cell_type": "code",
   "execution_count": 20,
   "id": "f85c2754-6ea1-4e9d-8450-57c3c2df6225",
   "metadata": {},
   "outputs": [],
   "source": [
    "#complex Number\n",
    "num1 = 1+2j"
   ]
  },
  {
   "cell_type": "code",
   "execution_count": 21,
   "id": "83962b7b-8d69-443e-ab18-82d6c69bc1de",
   "metadata": {},
   "outputs": [
    {
     "data": {
      "text/plain": [
       "complex"
      ]
     },
     "execution_count": 21,
     "metadata": {},
     "output_type": "execute_result"
    }
   ],
   "source": [
    "type(num1)"
   ]
  },
  {
   "cell_type": "code",
   "execution_count": 22,
   "id": "3f565f21-ec49-4ce1-bad7-9b9e80aeaebb",
   "metadata": {},
   "outputs": [],
   "source": [
    "bool_num1 = True"
   ]
  },
  {
   "cell_type": "code",
   "execution_count": 23,
   "id": "e4c5fe21-48c0-4221-8fcc-e9166207d925",
   "metadata": {},
   "outputs": [
    {
     "data": {
      "text/plain": [
       "bool"
      ]
     },
     "execution_count": 23,
     "metadata": {},
     "output_type": "execute_result"
    }
   ],
   "source": [
    "type(bool_num1)"
   ]
  },
  {
   "cell_type": "code",
   "execution_count": 27,
   "id": "6ef54e91-fa8a-49e2-9933-3022db274125",
   "metadata": {},
   "outputs": [],
   "source": [
    "#String -> Collection of Character"
   ]
  },
  {
   "cell_type": "code",
   "execution_count": 28,
   "id": "c5a3da37-af2b-4fd3-af4b-63f7134582cf",
   "metadata": {},
   "outputs": [],
   "source": [
    "full_name = \"Harsh Vardhan Jha\""
   ]
  },
  {
   "cell_type": "code",
   "execution_count": 29,
   "id": "4cb94832-1db2-4a66-a1d5-364a3b85ff7a",
   "metadata": {},
   "outputs": [],
   "source": [
    "sen_=\"Welcome to prachi python class\""
   ]
  },
  {
   "cell_type": "code",
   "execution_count": 30,
   "id": "0c887e1d-959e-496a-b5b9-1618cf2d8cdd",
   "metadata": {},
   "outputs": [
    {
     "data": {
      "text/plain": [
       "str"
      ]
     },
     "execution_count": 30,
     "metadata": {},
     "output_type": "execute_result"
    }
   ],
   "source": [
    "type(full_name)"
   ]
  },
  {
   "cell_type": "code",
   "execution_count": 31,
   "id": "fd17c6d5-d0d6-49f8-823c-1c4e27378be5",
   "metadata": {},
   "outputs": [
    {
     "data": {
      "text/plain": [
       "str"
      ]
     },
     "execution_count": 31,
     "metadata": {},
     "output_type": "execute_result"
    }
   ],
   "source": [
    "type(sen_)"
   ]
  },
  {
   "cell_type": "code",
   "execution_count": 32,
   "id": "a1f44260-4de4-4953-9b9c-7008a19bc79d",
   "metadata": {},
   "outputs": [],
   "source": [
    "#TUPLES -> Hetrogeneous collection of data , imutable data type"
   ]
  },
  {
   "cell_type": "code",
   "execution_count": 36,
   "id": "439ae486-fa7a-40df-8c99-2a76250aaf41",
   "metadata": {},
   "outputs": [],
   "source": [
    "tup=(1,2,3,4)"
   ]
  },
  {
   "cell_type": "code",
   "execution_count": 37,
   "id": "4873cca4-160d-4449-b088-17c6599e6e21",
   "metadata": {},
   "outputs": [
    {
     "data": {
      "text/plain": [
       "tuple"
      ]
     },
     "execution_count": 37,
     "metadata": {},
     "output_type": "execute_result"
    }
   ],
   "source": [
    "type(tup)"
   ]
  },
  {
   "cell_type": "code",
   "execution_count": 38,
   "id": "203eb6ba-4a1c-4f71-ab23-946934912d3c",
   "metadata": {},
   "outputs": [],
   "source": [
    "#List -> Add multiple data and we can modify too i.e.. mutable"
   ]
  },
  {
   "cell_type": "code",
   "execution_count": 40,
   "id": "b8378a03-8b11-4d5f-9c2d-d702598a0214",
   "metadata": {},
   "outputs": [],
   "source": [
    "List_1 = [1,2,3,4,5]"
   ]
  },
  {
   "cell_type": "code",
   "execution_count": 41,
   "id": "4a880c45-b399-4503-bd42-1035ff552685",
   "metadata": {},
   "outputs": [
    {
     "data": {
      "text/plain": [
       "list"
      ]
     },
     "execution_count": 41,
     "metadata": {},
     "output_type": "execute_result"
    }
   ],
   "source": [
    "type(List_1)\n"
   ]
  },
  {
   "cell_type": "code",
   "execution_count": 42,
   "id": "30747dad-efb3-4ef9-b6e5-eec163038fc8",
   "metadata": {},
   "outputs": [],
   "source": [
    "#Set -> Not contain duplicate value"
   ]
  },
  {
   "cell_type": "code",
   "execution_count": 43,
   "id": "9eed450a-d39b-4867-98d4-38efcd95e2df",
   "metadata": {},
   "outputs": [],
   "source": [
    "set_1 = {1,2,3,4,5,2,4,6,7,8,6}"
   ]
  },
  {
   "cell_type": "code",
   "execution_count": 44,
   "id": "2a7d9c7a-a50e-4240-9e6a-5ca1752465a7",
   "metadata": {},
   "outputs": [
    {
     "data": {
      "text/plain": [
       "{1, 2, 3, 4, 5, 6, 7, 8}"
      ]
     },
     "execution_count": 44,
     "metadata": {},
     "output_type": "execute_result"
    }
   ],
   "source": [
    "set_1"
   ]
  },
  {
   "cell_type": "code",
   "execution_count": 45,
   "id": "20f76196-528d-467b-a1ab-7912e748ffd5",
   "metadata": {},
   "outputs": [
    {
     "data": {
      "text/plain": [
       "set"
      ]
     },
     "execution_count": 45,
     "metadata": {},
     "output_type": "execute_result"
    }
   ],
   "source": [
    "type(set_1)"
   ]
  },
  {
   "cell_type": "code",
   "execution_count": 46,
   "id": "36fc3b3c-494d-409d-94c1-385b654e8df8",
   "metadata": {},
   "outputs": [],
   "source": [
    "##Dictionary -> key value pair, If duplicate key then overwrite "
   ]
  },
  {
   "cell_type": "code",
   "execution_count": 47,
   "id": "460890d2-1ae6-4253-aa5f-ee16618dfc17",
   "metadata": {},
   "outputs": [],
   "source": [
    "dict_1={\"name\":\"Harsh\",\"Department\":\"IT\",\"Emp_id\":\"emp123\"}"
   ]
  },
  {
   "cell_type": "code",
   "execution_count": 48,
   "id": "d50b6d4e-bdb2-4f94-a111-24bcbfaa5b6f",
   "metadata": {},
   "outputs": [
    {
     "data": {
      "text/plain": [
       "{'name': 'Harsh', 'Department': 'IT', 'Emp_id': 'emp123'}"
      ]
     },
     "execution_count": 48,
     "metadata": {},
     "output_type": "execute_result"
    }
   ],
   "source": [
    "dict_1"
   ]
  },
  {
   "cell_type": "code",
   "execution_count": 49,
   "id": "3d634c75-2beb-4106-a883-ac0917663807",
   "metadata": {},
   "outputs": [],
   "source": [
    "dict_2={\"name\":\"Harsh\",\"Department\":\"IT\",\"Emp_id\":\"emp123\",\"name\":\"Muskan\"}"
   ]
  },
  {
   "cell_type": "code",
   "execution_count": 50,
   "id": "8bfebc0f-6d41-4b5f-aff3-1493cdc18980",
   "metadata": {},
   "outputs": [
    {
     "data": {
      "text/plain": [
       "{'name': 'Muskan', 'Department': 'IT', 'Emp_id': 'emp123'}"
      ]
     },
     "execution_count": 50,
     "metadata": {},
     "output_type": "execute_result"
    }
   ],
   "source": [
    "dict_2"
   ]
  },
  {
   "cell_type": "code",
   "execution_count": 51,
   "id": "709f1136-2696-4330-9cef-008d4f608c82",
   "metadata": {},
   "outputs": [
    {
     "data": {
      "text/plain": [
       "dict"
      ]
     },
     "execution_count": 51,
     "metadata": {},
     "output_type": "execute_result"
    }
   ],
   "source": [
    "type(dict_2)"
   ]
  },
  {
   "cell_type": "code",
   "execution_count": 52,
   "id": "75f0a615-46d1-4094-bff6-00f2d38ade90",
   "metadata": {},
   "outputs": [],
   "source": [
    "x = 89.00"
   ]
  },
  {
   "cell_type": "code",
   "execution_count": 53,
   "id": "b7c9f330-1009-490e-8a47-4fc48f09d15c",
   "metadata": {},
   "outputs": [
    {
     "data": {
      "text/plain": [
       "float"
      ]
     },
     "execution_count": 53,
     "metadata": {},
     "output_type": "execute_result"
    }
   ],
   "source": [
    "type(x)"
   ]
  },
  {
   "cell_type": "code",
   "execution_count": 55,
   "id": "401ea7a9-977c-4d77-92fd-ebaf48c6db60",
   "metadata": {},
   "outputs": [],
   "source": [
    "n2 = [1,2,3,(2,4,5),6,7]"
   ]
  },
  {
   "cell_type": "code",
   "execution_count": 56,
   "id": "2edac1d0-7bef-48fe-8c47-4777d48db1a6",
   "metadata": {},
   "outputs": [
    {
     "data": {
      "text/plain": [
       "list"
      ]
     },
     "execution_count": 56,
     "metadata": {},
     "output_type": "execute_result"
    }
   ],
   "source": [
    "type(n2)"
   ]
  },
  {
   "cell_type": "code",
   "execution_count": 57,
   "id": "b91da242-e456-404b-940f-9e3641232780",
   "metadata": {},
   "outputs": [],
   "source": [
    "n3 = \"P R A C H I\""
   ]
  },
  {
   "cell_type": "code",
   "execution_count": 58,
   "id": "0b083cba-70ff-4dc6-9fa1-7d479a1c55df",
   "metadata": {},
   "outputs": [
    {
     "data": {
      "text/plain": [
       "str"
      ]
     },
     "execution_count": 58,
     "metadata": {},
     "output_type": "execute_result"
    }
   ],
   "source": [
    "type(n3)"
   ]
  },
  {
   "cell_type": "code",
   "execution_count": 59,
   "id": "afe36fb9-9d95-4056-a5d5-545c52ddaae0",
   "metadata": {},
   "outputs": [],
   "source": [
    "n5 = \"[1,2,3,4]\""
   ]
  },
  {
   "cell_type": "code",
   "execution_count": 60,
   "id": "16531198-7687-49be-8dcd-7e60126cdba1",
   "metadata": {},
   "outputs": [
    {
     "data": {
      "text/plain": [
       "str"
      ]
     },
     "execution_count": 60,
     "metadata": {},
     "output_type": "execute_result"
    }
   ],
   "source": [
    "type(n5)"
   ]
  },
  {
   "cell_type": "code",
   "execution_count": 61,
   "id": "bd1f69b9-7b67-4503-bed4-cec4d3d427f0",
   "metadata": {},
   "outputs": [],
   "source": [
    "n7 = (90,10.5,12)"
   ]
  },
  {
   "cell_type": "code",
   "execution_count": 62,
   "id": "7c60bdf1-8eb0-4367-8060-f04d429fd940",
   "metadata": {},
   "outputs": [
    {
     "data": {
      "text/plain": [
       "tuple"
      ]
     },
     "execution_count": 62,
     "metadata": {},
     "output_type": "execute_result"
    }
   ],
   "source": [
    "type(n7)"
   ]
  },
  {
   "cell_type": "code",
   "execution_count": 64,
   "id": "1fa7a19c-cfa8-452b-8599-45369a64d82c",
   "metadata": {},
   "outputs": [],
   "source": [
    "n8 = {10:12,\"p\":\"r\",12.4:13}"
   ]
  },
  {
   "cell_type": "code",
   "execution_count": 65,
   "id": "56b5b199-37dc-4e11-b056-bfc36834282e",
   "metadata": {},
   "outputs": [
    {
     "data": {
      "text/plain": [
       "dict"
      ]
     },
     "execution_count": 65,
     "metadata": {},
     "output_type": "execute_result"
    }
   ],
   "source": [
    "type(n8)"
   ]
  },
  {
   "cell_type": "code",
   "execution_count": 70,
   "id": "382eda8f-3433-4fce-801a-d979d78cf5e5",
   "metadata": {},
   "outputs": [],
   "source": [
    "def add(a,b):\n",
    "    return a+b\n",
    "\n",
    "#def nul(a,b)\n",
    "    #a+b"
   ]
  },
  {
   "cell_type": "code",
   "execution_count": 71,
   "id": "52c1bd3d-1b46-4ffe-b242-a0630070aaa3",
   "metadata": {},
   "outputs": [
    {
     "data": {
      "text/plain": [
       "12"
      ]
     },
     "execution_count": 71,
     "metadata": {},
     "output_type": "execute_result"
    }
   ],
   "source": [
    "add(4,8)"
   ]
  },
  {
   "cell_type": "code",
   "execution_count": 76,
   "id": "709b7007-0a48-43eb-a132-28ea68fba6b0",
   "metadata": {},
   "outputs": [],
   "source": [
    "#operator -> special symbol that perform operation on variable or value\n",
    "#Arithmetic Operator -> perform mathematial operation like +,-,*,/,//,%,**\n",
    "#Assignment Operator -> assign the value to variables like +=,==,-=,/=.//=.%=,**=\n",
    "#Comparision Operator -> compare two values return a boolean result Trueor False like ==,!=,<=,>=,>,<\n",
    "#Logical Operator -> to check whether expression is true or false like and, or, not\n",
    "#Bitwise Operator -> act on operand as if they were strings of binary digits, operate bit by bit like &,|,~.\n",
    "#Special Operator -> python provide some special operator identity and membership operator"
   ]
  },
  {
   "cell_type": "code",
   "execution_count": 80,
   "id": "86267fe8-0de3-4a5b-b9bd-9f27951855e5",
   "metadata": {},
   "outputs": [
    {
     "name": "stdout",
     "output_type": "stream",
     "text": [
      "sum: 30\n"
     ]
    }
   ],
   "source": [
    "#addition\n",
    "num1=10\n",
    "num2=20\n",
    "print('sum:',num1+num2)"
   ]
  },
  {
   "cell_type": "code",
   "execution_count": 81,
   "id": "bdef14e4-dee6-4b43-b27d-cb8257756561",
   "metadata": {},
   "outputs": [
    {
     "name": "stdout",
     "output_type": "stream",
     "text": [
      "sum: 30\n"
     ]
    }
   ],
   "source": [
    "num1 =10\n",
    "num2=20\n",
    "sum = num1+num2\n",
    "print('sum:',sum)"
   ]
  },
  {
   "cell_type": "code",
   "execution_count": 83,
   "id": "1a10b440-90f5-4ea5-b852-29d16971b5f5",
   "metadata": {},
   "outputs": [
    {
     "name": "stdout",
     "output_type": "stream",
     "text": [
      "sub: -10\n"
     ]
    }
   ],
   "source": [
    "#substraction\n",
    "sub = num1-num2\n",
    "print('sub:',sub)"
   ]
  },
  {
   "cell_type": "code",
   "execution_count": 85,
   "id": "fe1e975e-c05c-4f5d-ae8d-a8032e4230b1",
   "metadata": {},
   "outputs": [
    {
     "name": "stdout",
     "output_type": "stream",
     "text": [
      "Mul: 200\n"
     ]
    }
   ],
   "source": [
    "#multiplication\n",
    "Mul = num1*num2\n",
    "print('Mul:',Mul)"
   ]
  },
  {
   "cell_type": "code",
   "execution_count": 86,
   "id": "0026762a-b37f-414f-9cfd-a29ef1950207",
   "metadata": {},
   "outputs": [
    {
     "name": "stdout",
     "output_type": "stream",
     "text": [
      "Div: 2.0\n"
     ]
    }
   ],
   "source": [
    "#Division\n",
    "div=num2/num1\n",
    "print('Div:',div)"
   ]
  },
  {
   "cell_type": "code",
   "execution_count": 92,
   "id": "ca0965f8-03d4-4472-8436-7454d61bf07d",
   "metadata": {},
   "outputs": [
    {
     "name": "stdout",
     "output_type": "stream",
     "text": [
      "floor_div: 2\n"
     ]
    }
   ],
   "source": [
    "#Floor division\n",
    "num1=7\n",
    "num2=3\n",
    "f_div= num1//num2\n",
    "print('floor_div:',f_div)"
   ]
  },
  {
   "cell_type": "code",
   "execution_count": 93,
   "id": "c592ff68-ae10-4040-93f1-15f77e177823",
   "metadata": {},
   "outputs": [
    {
     "name": "stdout",
     "output_type": "stream",
     "text": [
      "Modulo: 1\n"
     ]
    }
   ],
   "source": [
    "#Modular\n",
    "print('Modulo:',num1%num2)\n"
   ]
  },
  {
   "cell_type": "code",
   "execution_count": 96,
   "id": "0568addd-2ab9-4189-a233-5646413ebc0e",
   "metadata": {},
   "outputs": [
    {
     "name": "stdout",
     "output_type": "stream",
     "text": [
      "Power: 343\n"
     ]
    }
   ],
   "source": [
    "#Power\n",
    "print('Power:',num1**num2)"
   ]
  },
  {
   "cell_type": "code",
   "execution_count": 103,
   "id": "d8d273f3-7b4d-4fc4-a08a-8126a908cf8e",
   "metadata": {},
   "outputs": [
    {
     "name": "stdout",
     "output_type": "stream",
     "text": [
      "15\n"
     ]
    }
   ],
   "source": [
    "#Assignment Operator\n",
    "a=10\n",
    "b=5\n",
    "a+=b\n",
    "print(a)"
   ]
  },
  {
   "cell_type": "code",
   "execution_count": 106,
   "id": "0f5e72d5-82f9-457c-a304-0381c93123f8",
   "metadata": {},
   "outputs": [
    {
     "name": "stdout",
     "output_type": "stream",
     "text": [
      "15\n"
     ]
    }
   ],
   "source": [
    "a=10\n",
    "b=5\n",
    "b+=a\n",
    "print(b)"
   ]
  },
  {
   "cell_type": "code",
   "execution_count": 109,
   "id": "af90b5ac-c19d-4902-a66e-63ac1c2896df",
   "metadata": {},
   "outputs": [
    {
     "name": "stdout",
     "output_type": "stream",
     "text": [
      "50\n"
     ]
    }
   ],
   "source": [
    "a=10\n",
    "b=5\n",
    "a*=b\n",
    "print(a)"
   ]
  },
  {
   "cell_type": "code",
   "execution_count": 110,
   "id": "40e96ee5-ef5e-4bfa-a4b4-c4a7c174ca98",
   "metadata": {},
   "outputs": [
    {
     "data": {
      "text/plain": [
       "False"
      ]
     },
     "execution_count": 110,
     "metadata": {},
     "output_type": "execute_result"
    }
   ],
   "source": [
    "a==b"
   ]
  },
  {
   "cell_type": "code",
   "execution_count": 111,
   "id": "50f1753f-4bdc-4fde-a659-c1a2d61a34f1",
   "metadata": {},
   "outputs": [
    {
     "data": {
      "text/plain": [
       "True"
      ]
     },
     "execution_count": 111,
     "metadata": {},
     "output_type": "execute_result"
    }
   ],
   "source": [
    "a>b"
   ]
  },
  {
   "cell_type": "code",
   "execution_count": 113,
   "id": "1f3fabb4-00be-416b-9913-cb42f8f10b62",
   "metadata": {},
   "outputs": [
    {
     "name": "stdout",
     "output_type": "stream",
     "text": [
      "False\n"
     ]
    }
   ],
   "source": [
    "#Logical Operator -> AND OR NOT\n",
    "a=True\n",
    "b=False\n",
    "print(a and b)"
   ]
  },
  {
   "cell_type": "code",
   "execution_count": null,
   "id": "d1be2a75-6798-427e-80aa-d08c3f92af38",
   "metadata": {},
   "outputs": [],
   "source": [
    "#Bitwise\n"
   ]
  }
 ],
 "metadata": {
  "kernelspec": {
   "display_name": "Python [conda env:base] *",
   "language": "python",
   "name": "conda-base-py"
  },
  "language_info": {
   "codemirror_mode": {
    "name": "ipython",
    "version": 3
   },
   "file_extension": ".py",
   "mimetype": "text/x-python",
   "name": "python",
   "nbconvert_exporter": "python",
   "pygments_lexer": "ipython3",
   "version": "3.13.5"
  }
 },
 "nbformat": 4,
 "nbformat_minor": 5
}
