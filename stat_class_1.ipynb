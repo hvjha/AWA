{
  "nbformat": 4,
  "nbformat_minor": 0,
  "metadata": {
    "colab": {
      "provenance": [],
      "authorship_tag": "ABX9TyPSTJnrXuY2qGP+Qs/PinE4",
      "include_colab_link": true
    },
    "kernelspec": {
      "name": "python3",
      "display_name": "Python 3"
    },
    "language_info": {
      "name": "python"
    }
  },
  "cells": [
    {
      "cell_type": "markdown",
      "metadata": {
        "id": "view-in-github",
        "colab_type": "text"
      },
      "source": [
        "<a href=\"https://colab.research.google.com/github/hvjha/AWA/blob/Statistics/stat_class_1.ipynb\" target=\"_parent\"><img src=\"https://colab.research.google.com/assets/colab-badge.svg\" alt=\"Open In Colab\"/></a>"
      ]
    },
    {
      "cell_type": "markdown",
      "source": [
        "#Example 1 : Simple Survey\n"
      ],
      "metadata": {
        "id": "ErCD7WkXQ2hc"
      }
    },
    {
      "cell_type": "code",
      "source": [
        "#panda is greate for handling tabluar data\n",
        "import pandas as pd"
      ],
      "metadata": {
        "id": "oFGC-UrsRSdi"
      },
      "execution_count": null,
      "outputs": []
    },
    {
      "cell_type": "code",
      "source": [
        "data = {\n",
        "    'student':['A','B','C','D','E'],\n",
        "    'preferences':['online','offline','online','online','offline']\n",
        "}\n",
        "df = pd.DataFrame(data)\n",
        "print(df)"
      ],
      "metadata": {
        "colab": {
          "base_uri": "https://localhost:8080/"
        },
        "id": "3pVfkaqeSSOO",
        "outputId": "7a1e9f8b-a87f-4579-c78f-3d8d6754f0eb"
      },
      "execution_count": null,
      "outputs": [
        {
          "output_type": "stream",
          "name": "stdout",
          "text": [
            "  student preferences\n",
            "0       A      online\n",
            "1       B     offline\n",
            "2       C      online\n",
            "3       D      online\n",
            "4       E     offline\n"
          ]
        }
      ]
    },
    {
      "cell_type": "code",
      "source": [
        "#Count the frequency of each response\n",
        "print(\"\\n Preference Count:\")\n",
        "print(df['preferences'].value_counts())"
      ],
      "metadata": {
        "colab": {
          "base_uri": "https://localhost:8080/"
        },
        "id": "fdfqFH-lUE96",
        "outputId": "7fdf70e9-611f-4205-ea41-8190e6a964b7"
      },
      "execution_count": null,
      "outputs": [
        {
          "output_type": "stream",
          "name": "stdout",
          "text": [
            "preferences\n",
            "online     3\n",
            "offline    2\n",
            "Name: count, dtype: int64\n"
          ]
        }
      ]
    },
    {
      "cell_type": "code",
      "source": [
        "import matplotlib.pyplot as plt\n",
        "df['preferences'].value_counts().plot(kind='bar',title='Class preferences')\n",
        "plt.xlabel('Class Type')\n",
        "plt.ylabel('Number of student')\n",
        "plt.show()"
      ],
      "metadata": {
        "colab": {
          "base_uri": "https://localhost:8080/",
          "height": 501
        },
        "id": "MbSqIiyWUIgn",
        "outputId": "a60810b3-f360-4785-fe35-581165ede154"
      },
      "execution_count": null,
      "outputs": [
        {
          "output_type": "display_data",
          "data": {
            "text/plain": [
              "<Figure size 640x480 with 1 Axes>"
            ],
            "image/png": "[encoded data removed]"
          },
          "metadata": {}
        }
      ]
    },
    {
      "cell_type": "markdown",
      "source": [
        "#Example 2:\n"
      ],
      "metadata": {
        "id": "s-VKPdOOjPvf"
      }
    },
    {
      "cell_type": "code",
      "source": [
        "#helps with and statistics\n",
        "import numpy as np\n",
        "import matplotlib.pyplot as plt"
      ],
      "metadata": {
        "id": "_mrO-0azjlCo"
      },
      "execution_count": null,
      "outputs": []
    },
    {
      "cell_type": "code",
      "source": [
        "#age of student in a class\n",
        "age = [18,19,20,19,21,22,20,19,18,21]"
      ],
      "metadata": {
        "id": "ViPqCpG7jWot"
      },
      "execution_count": null,
      "outputs": []
    },
    {
      "cell_type": "markdown",
      "source": [
        "Standard Deviation : how spread out the numbers in a dataset <br/>\n",
        "std is small, the number are close to mean <br/>\n",
        "std is large, the numers are more spread out <br/>scale it\n",
        "if everyone score almost same on a test -std is low"
      ],
      "metadata": {
        "id": "DbqsDgU2tdlG"
      }
    },
    {
      "cell_type": "code",
      "source": [
        "print(\"Mean age :\", np.mean(age))\n",
        "print(\"Median age :\", np.median(age))\n",
        "print(\"Standard deviation :\", np.std(age))"
      ],
      "metadata": {
        "colab": {
          "base_uri": "https://localhost:8080/"
        },
        "id": "NHfIH5ZNj-Iz",
        "outputId": "c5a74991-9642-4777-9f9e-de7af87f290e"
      },
      "execution_count": null,
      "outputs": [
        {
          "output_type": "stream",
          "name": "stdout",
          "text": [
            "Mean age : 19.7\n",
            "Median age : 19.5\n",
            "Standard deviation : 1.268857754044952\n"
          ]
        }
      ]
    },
    {
      "cell_type": "code",
      "source": [
        "import matplotlib.pyplot as plt"
      ],
      "metadata": {
        "id": "H2_s8q4elGED"
      },
      "execution_count": 9,
      "outputs": []
    },
    {
      "cell_type": "code",
      "source": [
        "plt.hist(age,edgecolor='black')\n",
        "plt.xlabel('Age')\n",
        "plt.ylabel('Frequency')\n",
        "plt.title('Student Age Distribution')\n",
        "plt.show()"
      ],
      "metadata": {
        "colab": {
          "base_uri": "https://localhost:8080/",
          "height": 472
        },
        "id": "vNARAv9vkSXD",
        "outputId": "eae63c49-a3e3-4b8b-b481-932c0f25b597"
      },
      "execution_count": 11,
      "outputs": [
        {
          "output_type": "display_data",
          "data": {
            "text/plain": [
              "<Figure size 640x480 with 1 Axes>"
            ],
            "image/png": "[encoded data removed]"
          },
          "metadata": {}
        }
      ]
    },
    {
      "cell_type": "markdown",
      "source": [
        "#Task 3: Data Types\n"
      ],
      "metadata": {
        "id": "k_GumUSEpisS"
      }
    },
    {
      "cell_type": "code",
      "source": [
        "import pandas as pd"
      ],
      "metadata": {
        "id": "Q4RGILPxq8VM"
      },
      "execution_count": 14,
      "outputs": []
    },
    {
      "cell_type": "code",
      "source": [
        "data = {\n",
        "    'Name':['Alice','Bob','Charlie','David','Eve'],\n",
        "    'Gender':['Female','Male','Male','Male','Female'],\n",
        "    'Age':[25,30,35,40,45],\n",
        "    'Books Owned':[5,3,7,2,6],\n",
        "    'Height (cm)':[165,170,160,175,180]\n",
        "}\n",
        "#this convert the dictionary into a table using pandas\n",
        "df = pd.DataFrame(data)\n",
        "print(df)"
      ],
      "metadata": {
        "id": "tli_foFPkfxt",
        "colab": {
          "base_uri": "https://localhost:8080/"
        },
        "outputId": "b6e0be89-6078-40f4-fc71-d73545eb0bf0"
      },
      "execution_count": 16,
      "outputs": [
        {
          "output_type": "stream",
          "name": "stdout",
          "text": [
            "      Name  Gender  Age  Books Owned  Height (cm)\n",
            "0    Alice  Female   25            5          165\n",
            "1      Bob    Male   30            3          170\n",
            "2  Charlie    Male   35            7          160\n",
            "3    David    Male   40            2          175\n",
            "4      Eve  Female   45            6          180\n"
          ]
        }
      ]
    },
    {
      "cell_type": "code",
      "source": [
        "print(df.dtypes)"
      ],
      "metadata": {
        "colab": {
          "base_uri": "https://localhost:8080/"
        },
        "id": "EfGwVEh3rlR2",
        "outputId": "fa609ed5-22eb-49f9-b771-2e3601070940"
      },
      "execution_count": 18,
      "outputs": [
        {
          "output_type": "stream",
          "name": "stdout",
          "text": [
            "Name           object\n",
            "Gender         object\n",
            "Age             int64\n",
            "Books Owned     int64\n",
            "Height (cm)     int64\n",
            "dtype: object\n"
          ]
        }
      ]
    }
  ]
}