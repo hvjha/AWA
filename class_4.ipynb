{
 "cells": [
  {
   "cell_type": "code",
   "execution_count": 1,
   "id": "d57f3c39-78f2-4f22-aae7-8063b8a79cc7",
   "metadata": {},
   "outputs": [],
   "source": [
    "product_id =9\n",
    "region_code=2\n",
    "status_flag = 1"
   ]
  },
  {
   "cell_type": "code",
   "execution_count": 4,
   "id": "1a6a22e5-c128-4887-9b34-afcd2765bde3",
   "metadata": {},
   "outputs": [],
   "source": [
    "compressed_data = (product_id<<3) | (region_code<<1) | status_flag \n"
   ]
  },
  {
   "cell_type": "code",
   "execution_count": 5,
   "id": "c6e6b12f-8823-421a-889f-ae84c0b4a200",
   "metadata": {},
   "outputs": [
    {
     "data": {
      "text/plain": [
       "77"
      ]
     },
     "execution_count": 5,
     "metadata": {},
     "output_type": "execute_result"
    }
   ],
   "source": [
    "compressed_data"
   ]
  },
  {
   "cell_type": "code",
   "execution_count": 6,
   "id": "f25cb94b-7204-465a-9a3e-c7259589bf3f",
   "metadata": {},
   "outputs": [
    {
     "ename": "SyntaxError",
     "evalue": "leading zeros in decimal integer literals are not permitted; use an 0o prefix for octal integers (2994041471.py, line 1)",
     "output_type": "error",
     "traceback": [
      "\u001b[1;36m  Cell \u001b[1;32mIn[6], line 1\u001b[1;36m\u001b[0m\n\u001b[1;33m    00001001 -> left shift by 3 = 01001000 -> 0*2^7+1*2^6+0*2^5+0*2^4+1*2^3+0*2^2+0*2^1+0*2^0=64+8 ->72\u001b[0m\n\u001b[1;37m    ^\u001b[0m\n\u001b[1;31mSyntaxError\u001b[0m\u001b[1;31m:\u001b[0m leading zeros in decimal integer literals are not permitted; use an 0o prefix for octal integers\n"
     ]
    }
   ],
   "source": [
    "00001001 -> left shift by 3 = 01001000 -> 0*2^7+1*2^6+0*2^5+0*2^4+1*2^3+0*2^2+0*2^1+0*2^0=64+8 ->72\n",
    "00000010 -> left shift by 1 = 00000100 -> 0*2^7+0*2^6+0*2^5+0*2^4+0*2^3+1*2^2+0*2^1+0*2^0=4 \n",
    "00000001                    = 00000001\n",
    "                            = 01001101 -> 0*2^7+1*2^6+0*2^5+0*2^4+1*2^3+1*2^2+0*2^1+1*2^0=64+8+4+1 ->77"
   ]
  },
  {
   "cell_type": "code",
   "execution_count": 9,
   "id": "ef135e8f-5750-48d9-9388-2c87fdcb664c",
   "metadata": {},
   "outputs": [
    {
     "name": "stdout",
     "output_type": "stream",
     "text": [
      "33.33333333333333\n"
     ]
    }
   ],
   "source": [
    "revenue = 15000\n",
    "cost = 10000\n",
    "profit_margin = (revenue - cost)/revenue * 100\n",
    "print(profit_margin)"
   ]
  },
  {
   "cell_type": "code",
   "execution_count": 15,
   "id": "3d48f696-b36a-4832-a691-7b531b5e8642",
   "metadata": {},
   "outputs": [
    {
     "name": "stdout",
     "output_type": "stream",
     "text": [
      "Updated Stock: 35\n"
     ]
    }
   ],
   "source": [
    "stock=70\n",
    "sold=35\n",
    "stock -=sold\n",
    "print('Updated Stock:',stock)"
   ]
  },
  {
   "cell_type": "code",
   "execution_count": 25,
   "id": "faa9bfbb-8f9d-488d-b43d-7e1e1b20783f",
   "metadata": {},
   "outputs": [
    {
     "name": "stdout",
     "output_type": "stream",
     "text": [
      "Access Grant\n"
     ]
    }
   ],
   "source": [
    "#Membership Operator\n",
    "user_permission=['read','write','execute']\n",
    "required_permission='write'\n",
    "if required_permission in user_permission:\n",
    "    print('Access Grant')\n",
    "else:\n",
    "    print(\"You Don't Have Access: Access Denied\")"
   ]
  },
  {
   "cell_type": "code",
   "execution_count": 27,
   "id": "5d6b75db-51de-4cbb-ba50-9ef3847b5938",
   "metadata": {},
   "outputs": [
    {
     "name": "stdout",
     "output_type": "stream",
     "text": [
      "Access Granted\n"
     ]
    }
   ],
   "source": [
    "user_permission = ['read', 'write', 'execute']\n",
    "required_permission = ['write', 'execute']\n",
    "\n",
    "missing = [perm for perm in required_permission if perm not in user_permission]\n",
    "granted = [perm for perm in required_permission if perm in user_permission]\n",
    "\n",
    "if not missing:\n",
    "    print('Access Granted')\n",
    "else:\n",
    "    print(f\"You have only {', '.join(granted)} access, but missing {', '.join(missing)} access.\")\n"
   ]
  },
  {
   "cell_type": "code",
   "execution_count": 28,
   "id": "fa09d112-cf63-44ab-b180-515ca42b2ed8",
   "metadata": {},
   "outputs": [
    {
     "data": {
      "text/plain": [
       "int"
      ]
     },
     "execution_count": 28,
     "metadata": {},
     "output_type": "execute_result"
    }
   ],
   "source": [
    "type(stock)"
   ]
  },
  {
   "cell_type": "code",
   "execution_count": 31,
   "id": "6c5dd216-5a90-4a80-ab5d-2dc56e6a6502",
   "metadata": {},
   "outputs": [
    {
     "name": "stdout",
     "output_type": "stream",
     "text": [
      "54\n"
     ]
    }
   ],
   "source": [
    "a='5'\n",
    "b='4'\n",
    "c=a+b\n",
    "print (c)\n"
   ]
  },
  {
   "cell_type": "code",
   "execution_count": 30,
   "id": "1eae0433-0551-4868-94ed-9f12b623d495",
   "metadata": {},
   "outputs": [
    {
     "ename": "TypeError",
     "evalue": "unsupported operand type(s) for +: 'int' and 'str'",
     "output_type": "error",
     "traceback": [
      "\u001b[1;31m---------------------------------------------------------------------------\u001b[0m",
      "\u001b[1;31mTypeError\u001b[0m                                 Traceback (most recent call last)",
      "Cell \u001b[1;32mIn[30], line 1\u001b[0m\n\u001b[1;32m----> 1\u001b[0m \u001b[38;5;241m5\u001b[39m\u001b[38;5;241m+\u001b[39m\u001b[38;5;124m'\u001b[39m\u001b[38;5;124m4\u001b[39m\u001b[38;5;124m'\u001b[39m\n",
      "\u001b[1;31mTypeError\u001b[0m: unsupported operand type(s) for +: 'int' and 'str'"
     ]
    }
   ],
   "source": [
    "5+'4'"
   ]
  },
  {
   "cell_type": "code",
   "execution_count": 32,
   "id": "eccc142f-63a8-4e1b-b8a7-cc4b9612bf0e",
   "metadata": {},
   "outputs": [
    {
     "name": "stdout",
     "output_type": "stream",
     "text": [
      "9\n"
     ]
    }
   ],
   "source": [
    "a=5\n",
    "b='4'\n",
    "c=a+int(b)\n",
    "print (c)"
   ]
  },
  {
   "cell_type": "code",
   "execution_count": 33,
   "id": "31219423-fce8-451f-b0f0-02c265771578",
   "metadata": {},
   "outputs": [],
   "source": [
    "num1 =80\n",
    "num2 ='Harsh'"
   ]
  },
  {
   "cell_type": "code",
   "execution_count": 38,
   "id": "583bf978-da1c-4e38-90ab-2eeb2c45446d",
   "metadata": {},
   "outputs": [
    {
     "name": "stdout",
     "output_type": "stream",
     "text": [
      "80Harsh\n"
     ]
    }
   ],
   "source": [
    "operation = str(num1) + num2\n",
    "print(operation)"
   ]
  },
  {
   "cell_type": "code",
   "execution_count": 1,
   "id": "87e52569-d0bb-485d-a913-65e5333e9032",
   "metadata": {},
   "outputs": [],
   "source": [
    "#Type casting\n",
    "#--implicit -> Automatically\n",
    "#--explicit -> we have to convert it into float,int,str"
   ]
  },
  {
   "cell_type": "code",
   "execution_count": 9,
   "id": "b7a90804-91bc-4b54-a82f-92d5ba60aeeb",
   "metadata": {},
   "outputs": [],
   "source": [
    "l=[1,1,2,3,4,5,6,7,7,8,1]\n",
    "l=set(l)"
   ]
  },
  {
   "cell_type": "code",
   "execution_count": 10,
   "id": "47985ab1-1fc8-4742-ae75-bfcf56109385",
   "metadata": {},
   "outputs": [
    {
     "data": {
      "text/plain": [
       "{1, 2, 3, 4, 5, 6, 7, 8}"
      ]
     },
     "execution_count": 10,
     "metadata": {},
     "output_type": "execute_result"
    }
   ],
   "source": [
    "l"
   ]
  },
  {
   "cell_type": "code",
   "execution_count": 3,
   "id": "a9fd7321-3ef1-4399-bd76-1d4eca17001f",
   "metadata": {},
   "outputs": [],
   "source": [
    "rem_dup = set(l)"
   ]
  },
  {
   "cell_type": "code",
   "execution_count": 4,
   "id": "29bc664f-4fb3-4648-bea6-e1e37257ffc2",
   "metadata": {},
   "outputs": [
    {
     "data": {
      "text/plain": [
       "{1, 2, 3, 4, 5, 6, 7, 8}"
      ]
     },
     "execution_count": 4,
     "metadata": {},
     "output_type": "execute_result"
    }
   ],
   "source": [
    "rem_dup"
   ]
  },
  {
   "cell_type": "code",
   "execution_count": 5,
   "id": "f3b15f55-5037-4517-a6bb-f5939a02b321",
   "metadata": {},
   "outputs": [
    {
     "data": {
      "text/plain": [
       "set"
      ]
     },
     "execution_count": 5,
     "metadata": {},
     "output_type": "execute_result"
    }
   ],
   "source": [
    "type(rem_dup)"
   ]
  },
  {
   "cell_type": "code",
   "execution_count": 6,
   "id": "4df6f207-f5ca-4e3f-9b7c-56fd1ed8d16c",
   "metadata": {},
   "outputs": [],
   "source": [
    "new_list = list(rem_dup)"
   ]
  },
  {
   "cell_type": "code",
   "execution_count": 7,
   "id": "710b8142-0825-4845-a15e-d8ce7080481f",
   "metadata": {},
   "outputs": [
    {
     "data": {
      "text/plain": [
       "[1, 2, 3, 4, 5, 6, 7, 8]"
      ]
     },
     "execution_count": 7,
     "metadata": {},
     "output_type": "execute_result"
    }
   ],
   "source": [
    "new_list"
   ]
  },
  {
   "cell_type": "code",
   "execution_count": 8,
   "id": "0dd8450b-ec47-41c9-9df1-773f963f8bae",
   "metadata": {},
   "outputs": [
    {
     "data": {
      "text/plain": [
       "[1, 1, 2, 3, 4, 5, 6, 7, 7, 8, 1]"
      ]
     },
     "execution_count": 8,
     "metadata": {},
     "output_type": "execute_result"
    }
   ],
   "source": [
    "l"
   ]
  },
  {
   "cell_type": "code",
   "execution_count": 13,
   "id": "df4a4923-c354-4486-9b37-b24a22800175",
   "metadata": {},
   "outputs": [
    {
     "name": "stdout",
     "output_type": "stream",
     "text": [
      "Error: You cannot add a number and a string together.\n"
     ]
    }
   ],
   "source": [
    "num1 =80\n",
    "num2 ='Harsh'\n",
    "try:\n",
    "    operation = int(num1) + num2\n",
    "\n",
    "except: \n",
    "     print(\"Error: You cannot add a number and a string together.\")\n"
   ]
  },
  {
   "cell_type": "code",
   "execution_count": null,
   "id": "4393e124-2c17-4e1a-b59e-b2efdd9d7ebb",
   "metadata": {},
   "outputs": [],
   "source": []
  }
 ],
 "metadata": {
  "kernelspec": {
   "display_name": "Python [conda env:base] *",
   "language": "python",
   "name": "conda-base-py"
  },
  "language_info": {
   "codemirror_mode": {
    "name": "ipython",
    "version": 3
   },
   "file_extension": ".py",
   "mimetype": "text/x-python",
   "name": "python",
   "nbconvert_exporter": "python",
   "pygments_lexer": "ipython3",
   "version": "3.13.5"
  }
 },
 "nbformat": 4,
 "nbformat_minor": 5
}
