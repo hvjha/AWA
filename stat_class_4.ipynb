{
  "nbformat": 4,
  "nbformat_minor": 0,
  "metadata": {
    "colab": {
      "provenance": [],
      "authorship_tag": "ABX9TyM+wAXYW01+6QaS4Olf7qDi",
      "include_colab_link": true
    },
    "kernelspec": {
      "name": "python3",
      "display_name": "Python 3"
    },
    "language_info": {
      "name": "python"
    }
  },
  "cells": [
    {
      "cell_type": "markdown",
      "metadata": {
        "id": "view-in-github",
        "colab_type": "text"
      },
      "source": [
        "<a href=\"https://colab.research.google.com/github/hvjha/AWA/blob/Statistics/stat_class_4.ipynb\" target=\"_parent\"><img src=\"https://colab.research.google.com/assets/colab-badge.svg\" alt=\"Open In Colab\"/></a>"
      ]
    },
    {
      "cell_type": "markdown",
      "source": [
        "#systematic Sampling"
      ],
      "metadata": {
        "id": "hZ4f1HGyPqkX"
      }
    },
    {
      "cell_type": "markdown",
      "source": [
        "```\n",
        "Generate 1000 student with random grade and ratings\n",
        "Applies ss by picking every 10th student\n",
        "start at a random position so reduce bias\n",
        "```"
      ],
      "metadata": {
        "id": "mEBK-Wj4Se2-"
      }
    },
    {
      "cell_type": "code",
      "execution_count": 3,
      "metadata": {
        "id": "Q1XfBjyJAyxq"
      },
      "outputs": [],
      "source": [
        "import pandas as pd\n",
        "import random"
      ]
    },
    {
      "cell_type": "code",
      "source": [
        "num_student = 1000\n",
        "data = {\n",
        "    'studentID':list(range(1,num_student+1)),\n",
        "    'Name':[f'Student_{i}' for i in range(1,num_student+1)],\n",
        "    'Grade':[random.choice(['Grade 6','Grade 7', 'Grade 8', 'Grade 9', 'Grade 10']) for _ in range(num_student)],\n",
        "    'Canteen_Rating':[random.randint(1,5) for _ in range(num_student)],\n",
        "    'Transport_Rating':[random.randint(1,5) for _ in range(num_student)]\n",
        "}\n",
        "df = pd.DataFrame(data)\n",
        "print(df.head(20))"
      ],
      "metadata": {
        "colab": {
          "base_uri": "https://localhost:8080/"
        },
        "id": "ffOUSDUKP4TJ",
        "outputId": "b42b8d05-9a18-4983-b944-3c26d584de49"
      },
      "execution_count": 5,
      "outputs": [
        {
          "output_type": "stream",
          "name": "stdout",
          "text": [
            "    studentID        Name     Grade  Canteen_Rating  Transport_Rating\n",
            "0           1   Student_1   Grade 8               1                 2\n",
            "1           2   Student_2   Grade 9               5                 3\n",
            "2           3   Student_3   Grade 9               3                 2\n",
            "3           4   Student_4   Grade 6               3                 1\n",
            "4           5   Student_5  Grade 10               2                 5\n",
            "5           6   Student_6   Grade 7               3                 4\n",
            "6           7   Student_7   Grade 7               5                 1\n",
            "7           8   Student_8   Grade 8               4                 4\n",
            "8           9   Student_9   Grade 7               2                 4\n",
            "9          10  Student_10  Grade 10               4                 4\n",
            "10         11  Student_11  Grade 10               3                 3\n",
            "11         12  Student_12  Grade 10               1                 3\n",
            "12         13  Student_13   Grade 9               1                 5\n",
            "13         14  Student_14   Grade 9               1                 4\n",
            "14         15  Student_15   Grade 9               5                 5\n",
            "15         16  Student_16   Grade 6               3                 4\n",
            "16         17  Student_17   Grade 9               4                 1\n",
            "17         18  Student_18   Grade 9               5                 5\n",
            "18         19  Student_19   Grade 6               1                 4\n",
            "19         20  Student_20   Grade 6               3                 2\n"
          ]
        }
      ]
    },
    {
      "cell_type": "code",
      "source": [
        "#setup systematic sampling\n",
        "sample_size = 100\n",
        "interval = num_student // sample_size\n",
        "random_start = random.randint(0,interval-1)\n",
        "\n",
        "#Perform ss\n",
        "systematic_sample = df.iloc[random_start::interval]\n",
        "#show some interval data\n",
        "print(f\"\\n ss of {sample_size} students(every{interval} th student from {random_start}) :\");\n",
        "print(systematic_sample.head(20))\n"
      ],
      "metadata": {
        "colab": {
          "base_uri": "https://localhost:8080/"
        },
        "id": "5fUNVSPuRMCk",
        "outputId": "76dc874c-a439-4a1c-f191-8346b13f2b6a"
      },
      "execution_count": 8,
      "outputs": [
        {
          "output_type": "stream",
          "name": "stdout",
          "text": [
            "\n",
            " ss of 100 students(every10 th student from 2) :\n",
            "     studentID         Name     Grade  Canteen_Rating  Transport_Rating\n",
            "2            3    Student_3   Grade 9               3                 2\n",
            "12          13   Student_13   Grade 9               1                 5\n",
            "22          23   Student_23   Grade 9               5                 3\n",
            "32          33   Student_33   Grade 8               3                 3\n",
            "42          43   Student_43   Grade 8               1                 1\n",
            "52          53   Student_53   Grade 8               1                 3\n",
            "62          63   Student_63   Grade 6               3                 5\n",
            "72          73   Student_73   Grade 9               1                 3\n",
            "82          83   Student_83   Grade 8               5                 3\n",
            "92          93   Student_93   Grade 7               2                 5\n",
            "102        103  Student_103  Grade 10               3                 5\n",
            "112        113  Student_113   Grade 6               1                 3\n",
            "122        123  Student_123   Grade 6               1                 3\n",
            "132        133  Student_133   Grade 9               1                 4\n",
            "142        143  Student_143   Grade 6               1                 2\n",
            "152        153  Student_153   Grade 9               1                 4\n",
            "162        163  Student_163   Grade 7               1                 3\n",
            "172        173  Student_173   Grade 9               1                 5\n",
            "182        183  Student_183   Grade 9               4                 1\n",
            "192        193  Student_193   Grade 7               3                 4\n"
          ]
        }
      ]
    }
  ]
}