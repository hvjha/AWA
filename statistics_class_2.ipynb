{
  "nbformat": 4,
  "nbformat_minor": 0,
  "metadata": {
    "colab": {
      "provenance": [],
      "authorship_tag": "ABX9TyPeunCQcclR4CLS+6GJJ159",
      "include_colab_link": true
    },
    "kernelspec": {
      "name": "python3",
      "display_name": "Python 3"
    },
    "language_info": {
      "name": "python"
    }
  },
  "cells": [
    {
      "cell_type": "markdown",
      "metadata": {
        "id": "view-in-github",
        "colab_type": "text"
      },
      "source": [
        "<a href=\"https://colab.research.google.com/github/hvjha/AWA/blob/Statistics/statistics_class_2.ipynb\" target=\"_parent\"><img src=\"https://colab.research.google.com/assets/colab-badge.svg\" alt=\"Open In Colab\"/></a>"
      ]
    },
    {
      "cell_type": "code",
      "execution_count": 50,
      "metadata": {
        "colab": {
          "base_uri": "https://localhost:8080/"
        },
        "id": "czaPEBRZFjzr",
        "outputId": "c9331589-94a3-43b4-ffe1-9b929864b951"
      },
      "outputs": [
        {
          "output_type": "stream",
          "name": "stdout",
          "text": [
            "First 10 students study hours (population): [14, 20, 0, 1, 15, 12, 13, 3, 15, 14]\n",
            "Total population size: 1000\n"
          ]
        }
      ],
      "source": [
        "# Step 1 : Simulate a Population\n",
        "import random\n",
        "# create a population of 1000 students with study hours between 0 and 20\n",
        "# range(5) => 0 1 2 3 4\n",
        "population = [random.randint(0,20) for _ in range(1000) ]\n",
        "print(\"First 10 students study hours (population):\", population[:10] )\n",
        "print(\"Total population size:\", len(population))"
      ]
    },
    {
      "cell_type": "code",
      "source": [
        "# Step 2 : Draw a Sample from the Population\n",
        "# random sample of 50 students\n",
        "sample = random.sample(population,50)\n",
        "print(\"\\nAll 50 Samples: \",sample)\n",
        "print(\"\\nFirst 10 students study hours (Sample)\", sample[:10])\n",
        "print(\"Sample size:\", len(sample))"
      ],
      "metadata": {
        "colab": {
          "base_uri": "https://localhost:8080/"
        },
        "id": "jEeDPRQ7btOO",
        "outputId": "9325aa8f-dc66-4ff4-d996-c85b5925f3fb"
      },
      "execution_count": 51,
      "outputs": [
        {
          "output_type": "stream",
          "name": "stdout",
          "text": [
            "\n",
            "All 50 Samples:  [14, 2, 20, 15, 11, 18, 19, 4, 9, 7, 12, 8, 5, 5, 2, 8, 13, 2, 20, 7, 14, 10, 12, 9, 5, 10, 9, 9, 7, 11, 0, 9, 0, 19, 11, 3, 15, 3, 10, 1, 9, 4, 3, 17, 13, 16, 14, 2, 1, 20]\n",
            "\n",
            "First 10 students study hours (Sample) [14, 2, 20, 15, 11, 18, 19, 4, 9, 7]\n",
            "Sample size: 50\n"
          ]
        }
      ]
    },
    {
      "cell_type": "code",
      "source": [
        "# Step 3: Compare Statistics ( Mean Study Time )\n",
        "# Calculate average (mean) study hours for population and sample\n",
        "population_mean = sum(population) / len(population)\n",
        "sample_mean = sum(sample) / len(sample)\n",
        "print(f\"\\n Population Mean Study Time: {population_mean : .2f} hours\")\n",
        "print(f\"\\n Sample Mean Study Time: {sample_mean} hours\")"
      ],
      "metadata": {
        "colab": {
          "base_uri": "https://localhost:8080/"
        },
        "id": "VA2cu7Vqbxrr",
        "outputId": "90361c44-1ab8-4ae6-d507-9a7b4fb387f5"
      },
      "execution_count": 52,
      "outputs": [
        {
          "output_type": "stream",
          "name": "stdout",
          "text": [
            "\n",
            " Population Mean Study Time:  10.43 hours\n",
            "\n",
            " Sample Mean Study Time: 9.34 hours\n"
          ]
        }
      ]
    },
    {
      "cell_type": "code",
      "source": [
        "# Step 4 : Visualize the Distribution\n",
        "import matplotlib.pyplot as plt\n",
        "# plot histogram for population and sample\n",
        "plt.figure(figsize=(12,5))\n",
        "# Population\n",
        "plt.subplot(1,2,1)\n",
        "plt.hist(population, bins=20, color='skyblue', edgecolor='black')\n",
        "plt.title('Population Study Hours')\n",
        "plt.xlabel('Hours')\n",
        "plt.ylabel('Number of Students')\n",
        "# Sample\n",
        "plt.subplot(1,2,2)\n",
        "plt.hist(sample, bins=20, color='lightgreen', edgecolor='black')\n",
        "plt.title('Sample Study Hours')\n",
        "plt.xlabel('Hours')\n",
        "plt.ylabel('Number of Students')\n",
        "plt.tight_layout()\n",
        "plt.show()"
      ],
      "metadata": {
        "colab": {
          "base_uri": "https://localhost:8080/",
          "height": 507
        },
        "id": "1V5qGJzRbidw",
        "outputId": "97ed5682-1972-445f-8f93-7034fa3f1c3d"
      },
      "execution_count": 53,
      "outputs": [
        {
          "output_type": "display_data",
          "data": {
            "text/plain": [
              "<Figure size 1200x500 with 2 Axes>"
            ],
            "image/png": "[encoded data removed]"
          },
          "metadata": {}
        }
      ]
    },
    {
      "cell_type": "markdown",
      "source": [
        "# Part 2 - Simulate real world polling scenario"
      ],
      "metadata": {
        "id": "F6Kb50HCPcm1"
      }
    },
    {
      "cell_type": "code",
      "source": [
        "import random\n",
        "#Lets simulate 10000 voters\n",
        "population = [random.choice(['A','B']) for _ in range(10000)]\n",
        "#print(population)\n",
        "\n",
        "#count actual support in full population\n",
        "actual_support_A = population.count('A')\n",
        "actual_support_B = population.count('B')\n",
        "print(\"Actual support for A:\",actual_support_A)\n",
        "print(\"Actual support for B:\",actual_support_B)\n",
        "actual_support_A = population.count('A')/len(population) * 100\n",
        "actual_support_B = population.count('B')/len(population) * 100\n",
        "print(f\"\\n Actual support for A in the population :{actual_support_A : .2f}\")\n",
        "print(f\"\\n Actual support for B in the population :{actual_support_B : .2f}\")\n",
        "\n",
        "\n",
        "#Declare winnner\n",
        "if actual_support_A > actual_support_B:\n",
        "    winner = 'A'\n",
        "else:\n",
        "    winner = 'B'\n",
        "print(\"Winner:\",winner)\n",
        "\n",
        "#Winner difference\n",
        "winner_diff = abs(actual_support_A - actual_support_B)\n",
        "print(f\"\\n Winner Difference:{winner_diff: .2f}\")"
      ],
      "metadata": {
        "colab": {
          "base_uri": "https://localhost:8080/"
        },
        "id": "EpLGjLQwPul9",
        "outputId": "901cba12-f9cd-4fda-fdab-6da724776f26"
      },
      "execution_count": 54,
      "outputs": [
        {
          "output_type": "stream",
          "name": "stdout",
          "text": [
            "Actual support for A: 4979\n",
            "Actual support for B: 5021\n",
            "\n",
            " Actual support for A in the population : 49.79\n",
            "\n",
            " Actual support for B in the population : 50.21\n",
            "Winner: B\n",
            "\n",
            " Winner Difference: 0.42\n"
          ]
        }
      ]
    },
    {
      "cell_type": "code",
      "source": [
        "#Step 2: Take a sample of 500 voters\n",
        "sample = random.sample(population,500)\n",
        "#count actual support in full population\n",
        "actual_support_A = sample.count('A')\n",
        "actual_support_B =sample.count('B')\n",
        "print(\"Actual support for A:\",actual_support_A)\n",
        "print(\"Actual support for B:\",actual_support_B)\n",
        "actual_support_A = sample.count('A')/len(sample) * 100\n",
        "actual_support_B = sample.count('B')/len(sample) * 100\n",
        "print(f\"\\n Actual support for A in the sample :{actual_support_A : .2f}%\")\n",
        "print(f\"\\n Actual support for B in the sample :{actual_support_B : .2f}%\")\n",
        "\n",
        "\n",
        "#Declare winnner\n",
        "if actual_support_A > actual_support_B:\n",
        "    winner = 'A'\n",
        "else:\n",
        "    winner = 'B'\n",
        "print(\"Winner:\",winner)\n",
        "\n",
        "#winner difference\n",
        "winner_diff = abs(actual_support_A - actual_support_B)\n",
        "print(f\"\\n Winner Difference:{winner_diff: .2f}%\")"
      ],
      "metadata": {
        "colab": {
          "base_uri": "https://localhost:8080/"
        },
        "id": "0nV2sg1pQghi",
        "outputId": "c6e7a79c-4725-4504-b14e-abb1e44d21d2"
      },
      "execution_count": 32,
      "outputs": [
        {
          "output_type": "stream",
          "name": "stdout",
          "text": [
            "Actual support for A: 269\n",
            "Actual support for B: 231\n",
            "\n",
            " Actual support for A in the sample : 53.80%\n",
            "\n",
            " Actual support for B in the sample : 46.20%\n",
            "Winner: A\n",
            "\n",
            " Winner Difference: 7.60%\n"
          ]
        }
      ]
    },
    {
      "cell_type": "markdown",
      "source": [
        "#Part 3 : Sampling Techniques"
      ],
      "metadata": {
        "id": "NNhk57osVM_8"
      }
    },
    {
      "cell_type": "code",
      "source": [
        "# we will create population of 100 students\n",
        "# id , gender(Male, Female) , class(A,B,C or D)\n",
        "\n",
        "import random\n",
        "import pandas as pd\n",
        "random.seed(42)\n",
        "population = []\n",
        "\n",
        "genders = ['Male','Female']\n",
        "classes = ['A','B','C','D']\n",
        "\n",
        "for i in range(1,101):\n",
        "  student = {\n",
        "      'id' : i,\n",
        "      'gender' : random.choice(genders),\n",
        "      'class' : random.choice(classes)\n",
        "  }\n",
        "  population.append(student)\n",
        "# Convert to DataFrame for easy viewing\n",
        "\n",
        "df = pd.DataFrame(population)\n",
        "print(df.head())"
      ],
      "metadata": {
        "colab": {
          "base_uri": "https://localhost:8080/"
        },
        "id": "hNWt15gVVUwy",
        "outputId": "47bf5595-d654-4080-f6c8-76583196497d"
      },
      "execution_count": 34,
      "outputs": [
        {
          "output_type": "stream",
          "name": "stdout",
          "text": [
            "   id  gender class\n",
            "0   1    Male     A\n",
            "1   2  Female     B\n",
            "2   3    Male     B\n",
            "3   4    Male     A\n",
            "4   5  Female     A\n"
          ]
        }
      ]
    },
    {
      "cell_type": "code",
      "source": [
        "#Random Sampling\n",
        "#Everyone in the population has equal chance of being selected\n",
        "random_sample = df.sample(n=10,random_state=1)\n",
        "print(\"\\nRandom Sample:\")\n",
        "print(random_sample)"
      ],
      "metadata": {
        "colab": {
          "base_uri": "https://localhost:8080/"
        },
        "id": "OwOuASKxWeXW",
        "outputId": "5a57fb77-1b88-4b6b-965c-ca62586512ce"
      },
      "execution_count": 44,
      "outputs": [
        {
          "output_type": "stream",
          "name": "stdout",
          "text": [
            "\n",
            "Random Sample:\n",
            "    id  gender class\n",
            "80  81    Male     A\n",
            "84  85    Male     D\n",
            "33  34    Male     C\n",
            "81  82  Female     A\n",
            "93  94    Male     B\n",
            "17  18  Female     A\n",
            "36  37  Female     C\n",
            "82  83    Male     C\n",
            "69  70    Male     C\n",
            "65  66    Male     A\n"
          ]
        }
      ]
    },
    {
      "cell_type": "code",
      "source": [
        "#Stratified Sampling\n",
        "#devide the population into subgroup and sample proportionally from each\n",
        "#(by Gender)\n",
        "\n",
        "stratified_sample = df.groupby('gender',group_keys=False).apply(lambda x: x.sample(frac=0.1,random_state=1))\n",
        "print(\"\\nStratified Sample (by Gender):\")\n",
        "print(stratified_sample)"
      ],
      "metadata": {
        "colab": {
          "base_uri": "https://localhost:8080/"
        },
        "id": "rmByaobEYMAz",
        "outputId": "687282bb-a93f-4449-9429-fb12dbaf16f2"
      },
      "execution_count": 55,
      "outputs": [
        {
          "output_type": "stream",
          "name": "stdout",
          "text": [
            "\n",
            "Stratified Sample (by Gender):\n",
            "    id  gender class\n",
            "44  45  Female     B\n",
            "41  42  Female     B\n",
            "88  89  Female     C\n",
            "76  77  Female     A\n",
            "8    9  Female     B\n",
            "60  61    Male     A\n",
            "3    4    Male     A\n",
            "94  95    Male     B\n",
            "64  65    Male     A\n",
            "62  63    Male     A\n"
          ]
        },
        {
          "output_type": "stream",
          "name": "stderr",
          "text": [
            "/tmp/ipython-input-1620121268.py:5: DeprecationWarning: DataFrameGroupBy.apply operated on the grouping columns. This behavior is deprecated, and in a future version of pandas the grouping columns will be excluded from the operation. Either pass `include_groups=False` to exclude the groupings or explicitly select the grouping columns after groupby to silence this warning.\n",
            "  stratified_sample = df.groupby('gender',group_keys=False).apply(lambda x: x.sample(frac=0.1,random_state=1))\n"
          ]
        }
      ]
    },
    {
      "cell_type": "code",
      "source": [],
      "metadata": {
        "id": "vRdL94sgaAVy"
      },
      "execution_count": null,
      "outputs": []
    }
  ]
}